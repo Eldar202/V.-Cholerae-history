{
 "cells": [
  {
   "cell_type": "code",
   "execution_count": 2,
   "id": "bf8a7126",
   "metadata": {},
   "outputs": [],
   "source": [
    "import pandas as pd\n",
    "import os\n",
    "import seaborn as sns\n",
    "import Bio"
   ]
  },
  {
   "cell_type": "code",
   "execution_count": null,
   "id": "eab066b0",
   "metadata": {},
   "outputs": [],
   "source": []
  },
  {
   "cell_type": "code",
   "execution_count": 3,
   "id": "9a48f9c2",
   "metadata": {},
   "outputs": [
    {
     "data": {
      "text/plain": [
       "'C:\\\\Users\\\\MitoClubRoom\\\\Documents\\\\Eldar'"
      ]
     },
     "execution_count": 3,
     "metadata": {},
     "output_type": "execute_result"
    }
   ],
   "source": [
    "os.chdir('C:/Users/MitoClubRoom/Documents/Eldar')\n",
    "os.getcwd()"
   ]
  },
  {
   "cell_type": "code",
   "execution_count": 4,
   "id": "8b7d0036",
   "metadata": {},
   "outputs": [
    {
     "name": "stdout",
     "output_type": "stream",
     "text": [
      "VF_chr1_fasta:\n",
      "NC_006840.2\n",
      "Seq('AAGATCACTTAATATATATAAGATCTTTTAAAGAGATCTTTTATTAGATCTATT...AGA')\n",
      "Lenght of chromosome 1:  2897536\n",
      "number of A: 882812\n",
      "number of T: 886048\n",
      "number of G: 563483\n",
      "number of C: 565193\n",
      "VF_chr2_fasta:\n",
      "NC_006841.2\n",
      "Seq('ACTATGAAAACAATTGTACAGCATAAAAGCAATAATTCAACAAATAGCTGAACA...TTA')\n",
      "Lenght of chromosome 2:  1330333\n",
      "number of A: 423081\n",
      "number of T: 414726\n",
      "number of G: 245073\n",
      "number of C: 247453\n",
      "VC_chr1_fasta:\n",
      "NZ_CP016324.1\n",
      "Seq('GGCAAAATGTGTGAGGATCTTAGTTATCGGTCGAAAAATAATGTGAATAACTTA...ACG')\n",
      "Lenght of chromosome 1:  2987030\n",
      "number of A: 781763\n",
      "number of T: 776269\n",
      "number of G: 714454\n",
      "number of C: 714544\n",
      "VC_chr2_fasta:\n",
      "CP016325.1\n",
      "Seq('GATGAAAAACCGTCTATCCTAACAAGTCTCAGTCAAAACAAGATAAACAGAACA...AGT')\n",
      "Lenght of chromosome 2:  1101931\n",
      "number of A: 291986\n",
      "number of T: 293941\n",
      "number of G: 260201\n",
      "number of C: 255803\n"
     ]
    }
   ],
   "source": [
    "from Bio.Seq import Seq\n",
    "from Bio import SeqIO\n",
    "import os\n",
    "VF_chr1_fasta = SeqIO.read(\"VF_chr_1.fasta\", \"fasta\")\n",
    "print(\"VF_chr1_fasta:\")\n",
    "print(VF_chr1_fasta.id)\n",
    "print(repr(VF_chr1_fasta.seq))\n",
    "print('Lenght of chromosome 1: ', len(VF_chr1_fasta))\n",
    "VF_chr1_A_count = VF_chr1_fasta.count(\"A\")\n",
    "print('number of A:', VF_chr1_A_count)\n",
    "VF_chr1_T_count = VF_chr1_fasta.count(\"T\")\n",
    "print('number of T:', VF_chr1_T_count)\n",
    "VF_chr1_G_count = VF_chr1_fasta.count(\"G\")\n",
    "print('number of G:',VF_chr1_G_count)\n",
    "VF_chr1_C_count = VF_chr1_fasta.count(\"C\")\n",
    "print('number of C:', VF_chr1_C_count)\n",
    "VF_chr2_fasta = SeqIO.read(\"VF_chr_2.fasta\", \"fasta\")\n",
    "print(\"VF_chr2_fasta:\")\n",
    "print(VF_chr2_fasta.id)\n",
    "print(repr(VF_chr2_fasta.seq))\n",
    "print('Lenght of chromosome 2: ', len(VF_chr2_fasta))\n",
    "VF_chr2_A_count = VF_chr2_fasta.count(\"A\")\n",
    "print('number of A:', VF_chr2_A_count)\n",
    "VF_chr2_T_count = VF_chr2_fasta.count(\"T\")\n",
    "print('number of T:', VF_chr2_T_count)\n",
    "VF_chr2_G_count = VF_chr2_fasta.count(\"G\")\n",
    "print('number of G:', VF_chr2_G_count)\n",
    "VF_chr2_C_count = VF_chr2_fasta.count(\"C\")\n",
    "print('number of C:', VF_chr2_C_count)\n",
    "\n",
    "VC_chr1_fasta = SeqIO.read(\"VC_chr_1.fasta\", \"fasta\")\n",
    "print(\"VC_chr1_fasta:\")\n",
    "print(VC_chr1_fasta.id)\n",
    "print(repr(VC_chr1_fasta.seq))\n",
    "print('Lenght of chromosome 1: ', len(VC_chr1_fasta))\n",
    "VC_chr1_A_count = VC_chr1_fasta.count(\"A\")\n",
    "print('number of A:', VC_chr1_A_count)\n",
    "VC_chr1_T_count = VC_chr1_fasta.count(\"T\")\n",
    "print('number of T:', VC_chr1_T_count)\n",
    "VC_chr1_G_count = VC_chr1_fasta.count(\"G\")\n",
    "print('number of G:', VC_chr1_G_count)\n",
    "VC_chr1_C_count = VC_chr1_fasta.count(\"C\")\n",
    "print('number of C:', VC_chr1_C_count)\n",
    "\n",
    "VC_chr2_fasta = SeqIO.read(\"VC_chr_2.fasta\", \"fasta\")\n",
    "print(\"VC_chr2_fasta:\")\n",
    "print(VC_chr2_fasta.id)\n",
    "print(repr(VC_chr2_fasta.seq))\n",
    "print('Lenght of chromosome 2: ', len(VC_chr2_fasta))\n",
    "VC_chr2_A_count = VC_chr2_fasta.count(\"A\")\n",
    "print('number of A:', VC_chr2_A_count)\n",
    "VC_chr2_T_count = VC_chr2_fasta.count(\"T\")\n",
    "print('number of T:', VC_chr2_T_count)\n",
    "VC_chr2_G_count = VC_chr2_fasta.count(\"G\")\n",
    "print('number of G:', VC_chr2_G_count)\n",
    "VC_chr2_C_count = VC_chr2_fasta.count(\"C\")\n",
    "print('number of C:', VC_chr2_C_count)"
   ]
  },
  {
   "cell_type": "code",
   "execution_count": 5,
   "id": "1352be64",
   "metadata": {},
   "outputs": [
    {
     "name": "stdout",
     "output_type": "stream",
     "text": [
      "Seq('AAGATCACTTAATATATATAAGATCTTTTAAAGAGATCTTTTATTAGATCTATT...TTT')\n",
      "VF_chr1_left_p, A 438645\n",
      "VF_chr1_left_p, G 302214\n",
      "VF_chr1_left_p, T 448583\n",
      "VF_chr1_left_p, C 259326\n",
      "Seq('TCAGAATGATTTTTCACAGACAATACCTAATTATGAAATAAAACGGTTGATACC...AGA')\n",
      "VF_chr1_right_p, T 444167\n",
      "VF_chr1_right_p, C 261269\n",
      "VF_chr1_right_p, A 437465\n",
      "VF_chr1_right_p, G 305867\n",
      "VF_chr1_count_A 876110\n",
      "VF_chr1_count_G 608081\n",
      "VF_chr1_count_T 892750\n",
      "VF_chr1_count_C 520595\n"
     ]
    }
   ],
   "source": [
    "VF_chr1_left_p = VF_chr1_fasta[:1448768]\n",
    "print(repr(VF_chr1_left_p.seq))\n",
    "VF_chr1_left_p_A = VF_chr1_left_p.count(\"A\")\n",
    "print('VF_chr1_left_p, A', VF_chr1_left_p_A)\n",
    "VF_chr1_left_p_G = VF_chr1_left_p.count(\"G\")\n",
    "print('VF_chr1_left_p, G', VF_chr1_left_p_G)\n",
    "VF_chr1_left_p_T = VF_chr1_left_p.count(\"T\")\n",
    "print('VF_chr1_left_p, T', VF_chr1_left_p_T)\n",
    "VF_chr1_left_p_C = VF_chr1_left_p.count(\"C\")\n",
    "print('VF_chr1_left_p, C', VF_chr1_left_p_C)\n",
    "\n",
    "VF_chr1_right_p = VF_chr1_fasta[1448768:]\n",
    "print(repr(VF_chr1_right_p.seq))\n",
    "VF_chr1_right_p_T = VF_chr1_right_p.count(\"A\")\n",
    "print('VF_chr1_right_p, T', VF_chr1_right_p_T)\n",
    "VF_chr1_right_p_C = VF_chr1_right_p.count(\"G\")\n",
    "print('VF_chr1_right_p, C', VF_chr1_right_p_C)\n",
    "VF_chr1_right_p_A = VF_chr1_right_p.count(\"T\")\n",
    "print('VF_chr1_right_p, A', VF_chr1_right_p_A)\n",
    "VF_chr1_right_p_G = VF_chr1_right_p.count(\"C\")\n",
    "print('VF_chr1_right_p, G', VF_chr1_right_p_G)\n",
    "\n",
    "VF_chr1_count_A = VF_chr1_left_p_A + VF_chr1_right_p_A\n",
    "print(\"VF_chr1_count_A\", VF_chr1_count_A )\n",
    "VF_chr1_count_G = VF_chr1_left_p_G + VF_chr1_right_p_G\n",
    "print(\"VF_chr1_count_G\", VF_chr1_count_G )\n",
    "VF_chr1_count_T = VF_chr1_left_p_T + VF_chr1_right_p_T\n",
    "print(\"VF_chr1_count_T\", VF_chr1_count_T )\n",
    "VF_chr1_count_C = VF_chr1_left_p_C + VF_chr1_right_p_C\n",
    "print(\"VF_chr1_count_C\", VF_chr1_count_C )"
   ]
  },
  {
   "cell_type": "code",
   "execution_count": 6,
   "id": "dd09af49",
   "metadata": {},
   "outputs": [
    {
     "name": "stdout",
     "output_type": "stream",
     "text": [
      "Seq('ACTATGAAAACAATTGTACAGCATAAAAGCAATAATTCAACAAATAGCTGAACA...AAT')\n",
      "VF_chr2_left_p, A 208188\n",
      "VF_chr2_left_p, G 133398\n",
      "VF_chr2_left_p, T 209574\n",
      "VF_chr2_left_p, C 114006\n",
      "Seq('ACCTTAAATATTTTCATAATTTGATTATTTAAAGAGCGATTCTGTAGGAAGTAG...TTA')\n",
      "VF_chr2_right_p, T 214893\n",
      "VF_chr2_right_p, C 111675\n",
      "VF_chr2_right_p, A 205152\n",
      "VF_chr2_right_p, G 133447\n",
      "VF_chr2_count_A 413340\n",
      "VF_chr2_count_G 266845\n",
      "VF_chr2_count_T 424467\n",
      "VF_chr2_count_C 225681\n"
     ]
    }
   ],
   "source": [
    "VF_chr2_left_p = VF_chr2_fasta[:665166]\n",
    "print(repr(VF_chr2_left_p.seq))\n",
    "VF_chr2_left_p_A = VF_chr2_left_p.count(\"A\")\n",
    "print('VF_chr2_left_p, A', VF_chr2_left_p_A)\n",
    "VF_chr2_left_p_G = VF_chr2_left_p.count(\"G\")\n",
    "print('VF_chr2_left_p, G', VF_chr2_left_p_G)\n",
    "VF_chr2_left_p_T = VF_chr2_left_p.count(\"T\")\n",
    "print('VF_chr2_left_p, T', VF_chr2_left_p_T)\n",
    "VF_chr2_left_p_C = VF_chr2_left_p.count(\"C\")\n",
    "print('VF_chr2_left_p, C', VF_chr2_left_p_C)\n",
    "\n",
    "VF_chr2_right_p = VF_chr2_fasta[665166:]\n",
    "print(repr(VF_chr2_right_p.seq))\n",
    "VF_chr2_right_p_T = VF_chr2_right_p.count(\"A\")\n",
    "print('VF_chr2_right_p, T', VF_chr2_right_p_T)\n",
    "VF_chr2_right_p_C = VF_chr2_right_p.count(\"G\")\n",
    "print('VF_chr2_right_p, C', VF_chr2_right_p_C)\n",
    "VF_chr2_right_p_A = VF_chr2_right_p.count(\"T\")\n",
    "print('VF_chr2_right_p, A', VF_chr2_right_p_A)\n",
    "VF_chr2_right_p_G = VF_chr2_right_p.count(\"C\")\n",
    "print('VF_chr2_right_p, G', VF_chr2_right_p_G)\n",
    "\n",
    "VF_chr2_count_A = VF_chr2_left_p_A + VF_chr2_right_p_A\n",
    "print(\"VF_chr2_count_A\", VF_chr2_count_A)\n",
    "VF_chr2_count_G = VF_chr2_left_p_G + VF_chr2_right_p_G\n",
    "print(\"VF_chr2_count_G\", VF_chr2_count_G)\n",
    "VF_chr2_count_T = VF_chr2_left_p_T + VF_chr2_right_p_T\n",
    "print(\"VF_chr2_count_T\", VF_chr2_count_T)\n",
    "VF_chr2_count_C = VF_chr2_left_p_C + VF_chr2_right_p_C\n",
    "print(\"VF_chr2_count_C\", VF_chr2_count_C)"
   ]
  },
  {
   "cell_type": "code",
   "execution_count": 7,
   "id": "b2ebaab0",
   "metadata": {},
   "outputs": [
    {
     "name": "stdout",
     "output_type": "stream",
     "text": [
      "Seq('GGCAAAATGTGTGAGGATCTTAGTTATCGGTCGAAAAATAATGTGAATAACTTA...CGA')\n",
      "VC_chr1_left_p, A 371449\n",
      "VC_chr1_left_p, G 367754\n",
      "VC_chr1_left_p, T 378575\n",
      "VC_chr1_left_p, C 330737\n",
      "Seq('TGGGGTTATGGAAGACGAATTTTACCCAAACCATCAAGCGGTCGATTTTTATCA...ACG')\n",
      "VC_chr1_right_p, T 410314\n",
      "VC_chr1_right_p, C 346700\n",
      "VC_chr1_right_p, A 397694\n",
      "VC_chr1_right_p, G 383807\n",
      "VC_chr1_count_A 769143\n",
      "VC_chr1_count_G 751561\n",
      "VC_chr1_count_T 788889\n",
      "VC_chr1_count_C 677437\n"
     ]
    }
   ],
   "source": [
    "VC_chr1_left_p = VC_chr1_fasta[:1448515]\n",
    "print(repr(VC_chr1_left_p.seq))\n",
    "VC_chr1_left_p_A = VC_chr1_left_p.count(\"A\")\n",
    "print('VC_chr1_left_p, A', VC_chr1_left_p_A)\n",
    "VC_chr1_left_p_G = VC_chr1_left_p.count(\"G\")\n",
    "print('VC_chr1_left_p, G', VC_chr1_left_p_G)\n",
    "VC_chr1_left_p_T = VC_chr1_left_p.count(\"T\")\n",
    "print('VC_chr1_left_p, T', VC_chr1_left_p_T)\n",
    "VC_chr1_left_p_C = VC_chr1_left_p.count(\"C\")\n",
    "print('VC_chr1_left_p, C', VC_chr1_left_p_C)\n",
    "\n",
    "VC_chr1_right_p = VC_chr1_fasta[1448515:]\n",
    "print(repr(VC_chr1_right_p.seq))\n",
    "VC_chr1_right_p_T = VC_chr1_right_p.count(\"A\")\n",
    "print('VC_chr1_right_p, T', VC_chr1_right_p_T)\n",
    "VC_chr1_right_p_C = VC_chr1_right_p.count(\"G\")\n",
    "print('VC_chr1_right_p, C', VC_chr1_right_p_C)\n",
    "VC_chr1_right_p_A = VC_chr1_right_p.count(\"T\")\n",
    "print('VC_chr1_right_p, A', VC_chr1_right_p_A)\n",
    "VC_chr1_right_p_G = VC_chr1_right_p.count(\"C\")\n",
    "print('VC_chr1_right_p, G', VC_chr1_right_p_G)\n",
    "\n",
    "VC_chr1_count_A = VC_chr1_left_p_A + VC_chr1_right_p_A\n",
    "print(\"VC_chr1_count_A\", VC_chr1_count_A )\n",
    "VC_chr1_count_G = VC_chr1_left_p_G + VC_chr1_right_p_G\n",
    "print(\"VC_chr1_count_G\", VC_chr1_count_G )\n",
    "VC_chr1_count_T = VC_chr1_left_p_T + VC_chr1_right_p_T\n",
    "print(\"VC_chr1_count_T\", VC_chr1_count_T )\n",
    "VC_chr1_count_C = VC_chr1_left_p_C + VC_chr1_right_p_C\n",
    "print(\"VC_chr1_count_C\", VC_chr1_count_C )"
   ]
  },
  {
   "cell_type": "code",
   "execution_count": 8,
   "id": "b341eb64",
   "metadata": {},
   "outputs": [
    {
     "name": "stdout",
     "output_type": "stream",
     "text": [
      "Seq('GATGAAAAACCGTCTATCCTAACAAGTCTCAGTCAAAACAAGATAAACAGAACA...ATA')\n",
      "VC_chr2_left_p, A 147673\n",
      "VC_chr2_left_p, G 135582\n",
      "VC_chr2_left_p, T 153369\n",
      "VC_chr2_left_p, C 119341\n",
      "Seq('AACTGATCTCTTTCAACGCGGTAAATGAGCCAAACTGTTTTACCACATGACGAA...AGT')\n",
      "VC_chr2_right_p, T 144313\n",
      "VC_chr2_right_p, C 124619\n",
      "VC_chr2_right_p, A 140572\n",
      "VC_chr2_right_p, G 136462\n",
      "VC_chr2_count_A 288245\n",
      "VC_chr2_count_G 272044\n",
      "VC_chr2_count_T 297682\n",
      "VC_chr2_count_C 243960\n"
     ]
    }
   ],
   "source": [
    "VC_chr2_left_p = VC_chr2_fasta[:555965]\n",
    "print(repr(VC_chr2_left_p.seq))\n",
    "VC_chr2_left_p_A = VC_chr2_left_p.count(\"A\")\n",
    "print('VC_chr2_left_p, A', VC_chr2_left_p_A)\n",
    "VC_chr2_left_p_G = VC_chr2_left_p.count(\"G\")\n",
    "print('VC_chr2_left_p, G', VC_chr2_left_p_G)\n",
    "VC_chr2_left_p_T = VC_chr2_left_p.count(\"T\")\n",
    "print('VC_chr2_left_p, T', VC_chr2_left_p_T)\n",
    "VC_chr2_left_p_C = VC_chr2_left_p.count(\"C\")\n",
    "print('VC_chr2_left_p, C', VC_chr2_left_p_C)\n",
    "\n",
    "VC_chr2_right_p = VC_chr2_fasta[555965:]\n",
    "print(repr(VC_chr2_right_p.seq))\n",
    "VC_chr2_right_p_T = VC_chr2_right_p.count(\"A\")\n",
    "print('VC_chr2_right_p, T', VC_chr2_right_p_T)\n",
    "VC_chr2_right_p_C = VC_chr2_right_p.count(\"G\")\n",
    "print('VC_chr2_right_p, C', VC_chr2_right_p_C)\n",
    "VC_chr2_right_p_A = VC_chr2_right_p.count(\"T\")\n",
    "print('VC_chr2_right_p, A', VC_chr2_right_p_A)\n",
    "VC_chr2_right_p_G = VC_chr2_right_p.count(\"C\")\n",
    "print('VC_chr2_right_p, G', VC_chr2_right_p_G)\n",
    "\n",
    "VC_chr2_count_A = VC_chr2_left_p_A + VC_chr2_right_p_A\n",
    "print(\"VC_chr2_count_A\", VC_chr2_count_A)\n",
    "VC_chr2_count_G = VC_chr2_left_p_G + VC_chr2_right_p_G\n",
    "print(\"VC_chr2_count_G\", VC_chr2_count_G)\n",
    "VC_chr2_count_T = VC_chr2_left_p_T + VC_chr2_right_p_T\n",
    "print(\"VC_chr2_count_T\", VC_chr2_count_T)\n",
    "VC_chr2_count_C = VC_chr2_left_p_C + VC_chr2_right_p_C\n",
    "print(\"VC_chr2_count_C\", VC_chr2_count_C)"
   ]
  },
  {
   "cell_type": "code",
   "execution_count": 9,
   "id": "740e3270",
   "metadata": {},
   "outputs": [
    {
     "name": "stdout",
     "output_type": "stream",
     "text": [
      "2987030\n",
      "746757.5 1493515.0 2240272.5 2987030.0\n"
     ]
    }
   ],
   "source": [
    "print(len(VC_chr1_fasta))\n",
    "x = 2987030/4\n",
    "y = 2987030/2\n",
    "z = 746757.5*3\n",
    "r = 746757.5*4\n",
    "print(x, y, z, r)"
   ]
  },
  {
   "cell_type": "code",
   "execution_count": 10,
   "id": "a63f3a1a",
   "metadata": {},
   "outputs": [
    {
     "name": "stdout",
     "output_type": "stream",
     "text": [
      "2987030\n",
      "746757\n",
      "746757\n",
      "746757\n",
      "746757\n",
      "ID: NZ_CP016324.1\n",
      "Name: NZ_CP016324.1\n",
      "Description: NZ_CP016324.1 Vibrio cholerae 2740-80 chromosome 1, complete sequence\n",
      "Number of features: 0\n",
      "Seq('GGCAAAATGTGTGAGGATCTTAGTTATCGGTCGAAAAATAATGTGAATAACTTA...TAA')\n",
      "ID: NZ_CP016324.1\n",
      "Name: NZ_CP016324.1\n",
      "Description: NZ_CP016324.1 Vibrio cholerae 2740-80 chromosome 1, complete sequence\n",
      "Number of features: 0\n",
      "Seq('GTCAGCGTCCCCGTTTTATCAAACACCACGGTATCTACCTGACTTGCGGTCTGC...CGC')\n",
      "ID: NZ_CP016324.1\n",
      "Name: NZ_CP016324.1\n",
      "Description: NZ_CP016324.1 Vibrio cholerae 2740-80 chromosome 1, complete sequence\n",
      "Number of features: 0\n",
      "Seq('TGATTACCCGACGTGGGACGATCAAGCGTTTATTTTCCGTGTGCCAACCCTGTA...GTA')\n",
      "ID: NZ_CP016324.1\n",
      "Name: NZ_CP016324.1\n",
      "Description: NZ_CP016324.1 Vibrio cholerae 2740-80 chromosome 1, complete sequence\n",
      "Number of features: 0\n",
      "Seq('CTCATGTTATTTTATGTTTTTTGAGATAAGATAACAGCCACGAATGTGGCTGTT...ACG')\n"
     ]
    }
   ],
   "source": [
    "print(len(VC_chr1_fasta))\n",
    "VC_chr1_1_4 = VC_chr1_fasta[:746757]\n",
    "VC_chr1_2_4 = VC_chr1_fasta[746758:1493515]\n",
    "VC_chr1_3_4 = VC_chr1_fasta[1493515:2240272]\n",
    "VC_chr1_4_4 = VC_chr1_fasta[2240273:]\n",
    "print(len(VC_chr1_1_4))\n",
    "print(len(VC_chr1_2_4))\n",
    "print(len(VC_chr1_3_4))\n",
    "print(len(VC_chr1_4_4))\n",
    "print(VC_chr1_1_4)\n",
    "print(VC_chr1_2_4)\n",
    "print(VC_chr1_3_4)\n",
    "print(VC_chr1_4_4)"
   ]
  },
  {
   "cell_type": "code",
   "execution_count": 11,
   "id": "19a0a937",
   "metadata": {},
   "outputs": [
    {
     "name": "stdout",
     "output_type": "stream",
     "text": [
      "VC_chr1_n_4_A\n",
      "186598\n",
      "197027\n",
      "200824\n",
      "197313\n",
      "VC_chr1_n_4_G\n",
      "192625\n",
      "186337\n",
      "167890\n",
      "167601\n",
      "VC_chr1_n_4_T\n",
      "193615\n",
      "196086\n",
      "194207\n",
      "192361\n",
      "VC_chr1_n_4_C\n",
      "173919\n",
      "167307\n",
      "183836\n",
      "189482\n"
     ]
    }
   ],
   "source": [
    "VC_chr1_1_4_A = VC_chr1_1_4.count(\"A\")\n",
    "VC_chr1_2_4_A = VC_chr1_2_4.count(\"A\")\n",
    "VC_chr1_3_4_A = VC_chr1_3_4.count(\"A\")\n",
    "VC_chr1_4_4_A = VC_chr1_4_4.count(\"A\")\n",
    "print('VC_chr1_n_4_A')\n",
    "print(VC_chr1_1_4_A) \n",
    "print(VC_chr1_2_4_A)\n",
    "print(VC_chr1_3_4_A) \n",
    "print(VC_chr1_4_4_A) \n",
    "VC_chr1_1_4_G = VC_chr1_1_4.count(\"G\")\n",
    "VC_chr1_2_4_G = VC_chr1_2_4.count(\"G\")\n",
    "VC_chr1_3_4_G = VC_chr1_3_4.count(\"G\")\n",
    "VC_chr1_4_4_G = VC_chr1_4_4.count(\"G\")\n",
    "print('VC_chr1_n_4_G')\n",
    "print(VC_chr1_1_4_G) \n",
    "print(VC_chr1_2_4_G)\n",
    "print(VC_chr1_3_4_G) \n",
    "print(VC_chr1_4_4_G) \n",
    "VC_chr1_1_4_T = VC_chr1_1_4.count('T')\n",
    "VC_chr1_2_4_T = VC_chr1_2_4.count(\"T\")\n",
    "VC_chr1_3_4_T = VC_chr1_3_4.count(\"T\")\n",
    "VC_chr1_4_4_T = VC_chr1_4_4.count(\"T\")\n",
    "print('VC_chr1_n_4_T')\n",
    "print(VC_chr1_1_4_T) \n",
    "print(VC_chr1_2_4_T)\n",
    "print(VC_chr1_3_4_T) \n",
    "print(VC_chr1_4_4_T)\n",
    "VC_chr1_1_4_C = VC_chr1_1_4.count('C')\n",
    "VC_chr1_2_4_C = VC_chr1_2_4.count(\"C\")\n",
    "VC_chr1_3_4_C = VC_chr1_3_4.count(\"C\")\n",
    "VC_chr1_4_4_C = VC_chr1_4_4.count(\"C\")\n",
    "print('VC_chr1_n_4_C')\n",
    "print(VC_chr1_1_4_C) \n",
    "print(VC_chr1_2_4_C)\n",
    "print(VC_chr1_3_4_C) \n",
    "print(VC_chr1_4_4_C)"
   ]
  },
  {
   "cell_type": "code",
   "execution_count": 18,
   "id": "ca9cac12",
   "metadata": {},
   "outputs": [
    {
     "name": "stdout",
     "output_type": "stream",
     "text": [
      "2897536\n",
      "724384.0 1448768.0 2173152 2987030.0\n"
     ]
    },
    {
     "data": {
      "text/plain": [
       "2897536"
      ]
     },
     "execution_count": 18,
     "metadata": {},
     "output_type": "execute_result"
    }
   ],
   "source": [
    "print(len(VF_chr1_fasta))\n",
    "x = 2897536/4\n",
    "y = 2897536/2\n",
    "z = 724384*3\n",
    "r = 746757.5*4\n",
    "print(x, y, z, r)\n",
    "724384*4"
   ]
  },
  {
   "cell_type": "code",
   "execution_count": 19,
   "id": "6bd8b09c",
   "metadata": {},
   "outputs": [
    {
     "name": "stdout",
     "output_type": "stream",
     "text": [
      "2897536\n",
      "724384\n",
      "724384\n",
      "724384\n",
      "724384\n",
      "ID: NC_006840.2\n",
      "Name: NC_006840.2\n",
      "Description: NC_006840.2 Aliivibrio fischeri ES114 chromosome I, complete sequence\n",
      "Number of features: 0\n",
      "Seq('AAGATCACTTAATATATATAAGATCTTTTAAAGAGATCTTTTATTAGATCTATT...GAA')\n",
      "ID: NC_006840.2\n",
      "Name: NC_006840.2\n",
      "Description: NC_006840.2 Aliivibrio fischeri ES114 chromosome I, complete sequence\n",
      "Number of features: 0\n",
      "Seq('TAGAATAAGTCGTTCTATTTGTGCTGATTAAAAAAAAAGCAAAACAGTAAGGTT...TTT')\n",
      "ID: NC_006840.2\n",
      "Name: NC_006840.2\n",
      "Description: NC_006840.2 Aliivibrio fischeri ES114 chromosome I, complete sequence\n",
      "Number of features: 0\n",
      "Seq('TCAGAATGATTTTTCACAGACAATACCTAATTATGAAATAAAACGGTTGATACC...CGC')\n",
      "ID: NC_006840.2\n",
      "Name: NC_006840.2\n",
      "Description: NC_006840.2 Aliivibrio fischeri ES114 chromosome I, complete sequence\n",
      "Number of features: 0\n",
      "Seq('CACCACTTAATGCGACAATAAGATGTGGTTTTTTAACGGAATAAGATGTTATTT...AGA')\n"
     ]
    }
   ],
   "source": [
    "print(len(VF_chr1_fasta))\n",
    "VF_chr1_1_4 = VF_chr1_fasta[:724384]\n",
    "VF_chr1_2_4 = VF_chr1_fasta[724384:1448768]\n",
    "VF_chr1_3_4 = VF_chr1_fasta[1448768:2173152]\n",
    "VF_chr1_4_4 = VF_chr1_fasta[2173152:]\n",
    "print(len(VF_chr1_1_4))\n",
    "print(len(VF_chr1_2_4))\n",
    "print(len(VF_chr1_3_4))\n",
    "print(len(VF_chr1_4_4))\n",
    "print(VF_chr1_1_4)\n",
    "print(VF_chr1_2_4)\n",
    "print(VF_chr1_3_4)\n",
    "print(VF_chr1_4_4)"
   ]
  },
  {
   "cell_type": "code",
   "execution_count": 20,
   "id": "693379ae",
   "metadata": {},
   "outputs": [
    {
     "name": "stdout",
     "output_type": "stream",
     "text": [
      "VF_chr1_n_4_A\n",
      "216887\n",
      "221758\n",
      "224508\n",
      "219659\n",
      "VF_chr1_n_4_G\n",
      "153940\n",
      "148274\n",
      "127419\n",
      "133850\n",
      "VF_chr1_n_4_T\n",
      "222502\n",
      "226081\n",
      "222833\n",
      "214632\n",
      "VF_chr1_n_4_C\n",
      "131055\n",
      "128271\n",
      "149624\n",
      "156243\n"
     ]
    }
   ],
   "source": [
    "VF_chr1_1_4_A = VF_chr1_1_4.count(\"A\")\n",
    "VF_chr1_2_4_A = VF_chr1_2_4.count(\"A\")\n",
    "VF_chr1_3_4_A = VF_chr1_3_4.count(\"A\")\n",
    "VF_chr1_4_4_A = VF_chr1_4_4.count(\"A\")\n",
    "print('VF_chr1_n_4_A')\n",
    "print(VF_chr1_1_4_A) \n",
    "print(VF_chr1_2_4_A)\n",
    "print(VF_chr1_3_4_A) \n",
    "print(VF_chr1_4_4_A) \n",
    "VF_chr1_1_4_G = VF_chr1_1_4.count(\"G\")\n",
    "VF_chr1_2_4_G = VF_chr1_2_4.count(\"G\")\n",
    "VF_chr1_3_4_G = VF_chr1_3_4.count(\"G\")\n",
    "VF_chr1_4_4_G = VF_chr1_4_4.count(\"G\")\n",
    "print('VF_chr1_n_4_G')\n",
    "print(VF_chr1_1_4_G) \n",
    "print(VF_chr1_2_4_G)\n",
    "print(VF_chr1_3_4_G) \n",
    "print(VF_chr1_4_4_G) \n",
    "VF_chr1_1_4_T = VF_chr1_1_4.count('T')\n",
    "VF_chr1_2_4_T = VF_chr1_2_4.count(\"T\")\n",
    "VF_chr1_3_4_T = VF_chr1_3_4.count(\"T\")\n",
    "VF_chr1_4_4_T = VF_chr1_4_4.count(\"T\")\n",
    "print('VF_chr1_n_4_T')\n",
    "print(VF_chr1_1_4_T) \n",
    "print(VF_chr1_2_4_T)\n",
    "print(VF_chr1_3_4_T) \n",
    "print(VF_chr1_4_4_T)\n",
    "VF_chr1_1_4_C = VF_chr1_1_4.count('C')\n",
    "VF_chr1_2_4_C = VF_chr1_2_4.count(\"C\")\n",
    "VF_chr1_3_4_C = VF_chr1_3_4.count(\"C\")\n",
    "VF_chr1_4_4_C = VF_chr1_4_4.count(\"C\")\n",
    "print('VF_chr1_n_4_C')\n",
    "print(VF_chr1_1_4_C) \n",
    "print(VF_chr1_2_4_C)\n",
    "print(VF_chr1_3_4_C) \n",
    "print(VF_chr1_4_4_C)"
   ]
  },
  {
   "cell_type": "code",
   "execution_count": null,
   "id": "7c513159",
   "metadata": {},
   "outputs": [],
   "source": []
  },
  {
   "cell_type": "code",
   "execution_count": null,
   "id": "64032d6d",
   "metadata": {},
   "outputs": [],
   "source": []
  },
  {
   "cell_type": "code",
   "execution_count": null,
   "id": "f882ed1b",
   "metadata": {},
   "outputs": [],
   "source": []
  },
  {
   "cell_type": "code",
   "execution_count": null,
   "id": "7899c966",
   "metadata": {},
   "outputs": [],
   "source": []
  },
  {
   "cell_type": "code",
   "execution_count": null,
   "id": "8b058a74",
   "metadata": {},
   "outputs": [],
   "source": []
  },
  {
   "cell_type": "code",
   "execution_count": 13,
   "id": "d5346662",
   "metadata": {},
   "outputs": [
    {
     "ename": "FileNotFoundError",
     "evalue": "[Errno 2] No such file or directory: 'Chr.csv'",
     "output_type": "error",
     "traceback": [
      "\u001b[1;31m---------------------------------------------------------------------------\u001b[0m",
      "\u001b[1;31mFileNotFoundError\u001b[0m                         Traceback (most recent call last)",
      "Cell \u001b[1;32mIn[13], line 1\u001b[0m\n\u001b[1;32m----> 1\u001b[0m Chr \u001b[38;5;241m=\u001b[39m \u001b[43mpd\u001b[49m\u001b[38;5;241;43m.\u001b[39;49m\u001b[43mread_csv\u001b[49m\u001b[43m(\u001b[49m\u001b[38;5;124;43m'\u001b[39;49m\u001b[38;5;124;43mChr.csv\u001b[39;49m\u001b[38;5;124;43m'\u001b[39;49m\u001b[43m)\u001b[49m\n",
      "File \u001b[1;32m~\\AppData\\Local\\Programs\\Python\\Python311\\Lib\\site-packages\\pandas\\util\\_decorators.py:211\u001b[0m, in \u001b[0;36mdeprecate_kwarg.<locals>._deprecate_kwarg.<locals>.wrapper\u001b[1;34m(*args, **kwargs)\u001b[0m\n\u001b[0;32m    209\u001b[0m     \u001b[38;5;28;01melse\u001b[39;00m:\n\u001b[0;32m    210\u001b[0m         kwargs[new_arg_name] \u001b[38;5;241m=\u001b[39m new_arg_value\n\u001b[1;32m--> 211\u001b[0m \u001b[38;5;28;01mreturn\u001b[39;00m \u001b[43mfunc\u001b[49m\u001b[43m(\u001b[49m\u001b[38;5;241;43m*\u001b[39;49m\u001b[43margs\u001b[49m\u001b[43m,\u001b[49m\u001b[43m \u001b[49m\u001b[38;5;241;43m*\u001b[39;49m\u001b[38;5;241;43m*\u001b[39;49m\u001b[43mkwargs\u001b[49m\u001b[43m)\u001b[49m\n",
      "File \u001b[1;32m~\\AppData\\Local\\Programs\\Python\\Python311\\Lib\\site-packages\\pandas\\util\\_decorators.py:331\u001b[0m, in \u001b[0;36mdeprecate_nonkeyword_arguments.<locals>.decorate.<locals>.wrapper\u001b[1;34m(*args, **kwargs)\u001b[0m\n\u001b[0;32m    325\u001b[0m \u001b[38;5;28;01mif\u001b[39;00m \u001b[38;5;28mlen\u001b[39m(args) \u001b[38;5;241m>\u001b[39m num_allow_args:\n\u001b[0;32m    326\u001b[0m     warnings\u001b[38;5;241m.\u001b[39mwarn(\n\u001b[0;32m    327\u001b[0m         msg\u001b[38;5;241m.\u001b[39mformat(arguments\u001b[38;5;241m=\u001b[39m_format_argument_list(allow_args)),\n\u001b[0;32m    328\u001b[0m         \u001b[38;5;167;01mFutureWarning\u001b[39;00m,\n\u001b[0;32m    329\u001b[0m         stacklevel\u001b[38;5;241m=\u001b[39mfind_stack_level(),\n\u001b[0;32m    330\u001b[0m     )\n\u001b[1;32m--> 331\u001b[0m \u001b[38;5;28;01mreturn\u001b[39;00m \u001b[43mfunc\u001b[49m\u001b[43m(\u001b[49m\u001b[38;5;241;43m*\u001b[39;49m\u001b[43margs\u001b[49m\u001b[43m,\u001b[49m\u001b[43m \u001b[49m\u001b[38;5;241;43m*\u001b[39;49m\u001b[38;5;241;43m*\u001b[39;49m\u001b[43mkwargs\u001b[49m\u001b[43m)\u001b[49m\n",
      "File \u001b[1;32m~\\AppData\\Local\\Programs\\Python\\Python311\\Lib\\site-packages\\pandas\\io\\parsers\\readers.py:950\u001b[0m, in \u001b[0;36mread_csv\u001b[1;34m(filepath_or_buffer, sep, delimiter, header, names, index_col, usecols, squeeze, prefix, mangle_dupe_cols, dtype, engine, converters, true_values, false_values, skipinitialspace, skiprows, skipfooter, nrows, na_values, keep_default_na, na_filter, verbose, skip_blank_lines, parse_dates, infer_datetime_format, keep_date_col, date_parser, dayfirst, cache_dates, iterator, chunksize, compression, thousands, decimal, lineterminator, quotechar, quoting, doublequote, escapechar, comment, encoding, encoding_errors, dialect, error_bad_lines, warn_bad_lines, on_bad_lines, delim_whitespace, low_memory, memory_map, float_precision, storage_options)\u001b[0m\n\u001b[0;32m    935\u001b[0m kwds_defaults \u001b[38;5;241m=\u001b[39m _refine_defaults_read(\n\u001b[0;32m    936\u001b[0m     dialect,\n\u001b[0;32m    937\u001b[0m     delimiter,\n\u001b[1;32m   (...)\u001b[0m\n\u001b[0;32m    946\u001b[0m     defaults\u001b[38;5;241m=\u001b[39m{\u001b[38;5;124m\"\u001b[39m\u001b[38;5;124mdelimiter\u001b[39m\u001b[38;5;124m\"\u001b[39m: \u001b[38;5;124m\"\u001b[39m\u001b[38;5;124m,\u001b[39m\u001b[38;5;124m\"\u001b[39m},\n\u001b[0;32m    947\u001b[0m )\n\u001b[0;32m    948\u001b[0m kwds\u001b[38;5;241m.\u001b[39mupdate(kwds_defaults)\n\u001b[1;32m--> 950\u001b[0m \u001b[38;5;28;01mreturn\u001b[39;00m \u001b[43m_read\u001b[49m\u001b[43m(\u001b[49m\u001b[43mfilepath_or_buffer\u001b[49m\u001b[43m,\u001b[49m\u001b[43m \u001b[49m\u001b[43mkwds\u001b[49m\u001b[43m)\u001b[49m\n",
      "File \u001b[1;32m~\\AppData\\Local\\Programs\\Python\\Python311\\Lib\\site-packages\\pandas\\io\\parsers\\readers.py:605\u001b[0m, in \u001b[0;36m_read\u001b[1;34m(filepath_or_buffer, kwds)\u001b[0m\n\u001b[0;32m    602\u001b[0m _validate_names(kwds\u001b[38;5;241m.\u001b[39mget(\u001b[38;5;124m\"\u001b[39m\u001b[38;5;124mnames\u001b[39m\u001b[38;5;124m\"\u001b[39m, \u001b[38;5;28;01mNone\u001b[39;00m))\n\u001b[0;32m    604\u001b[0m \u001b[38;5;66;03m# Create the parser.\u001b[39;00m\n\u001b[1;32m--> 605\u001b[0m parser \u001b[38;5;241m=\u001b[39m \u001b[43mTextFileReader\u001b[49m\u001b[43m(\u001b[49m\u001b[43mfilepath_or_buffer\u001b[49m\u001b[43m,\u001b[49m\u001b[43m \u001b[49m\u001b[38;5;241;43m*\u001b[39;49m\u001b[38;5;241;43m*\u001b[39;49m\u001b[43mkwds\u001b[49m\u001b[43m)\u001b[49m\n\u001b[0;32m    607\u001b[0m \u001b[38;5;28;01mif\u001b[39;00m chunksize \u001b[38;5;129;01mor\u001b[39;00m iterator:\n\u001b[0;32m    608\u001b[0m     \u001b[38;5;28;01mreturn\u001b[39;00m parser\n",
      "File \u001b[1;32m~\\AppData\\Local\\Programs\\Python\\Python311\\Lib\\site-packages\\pandas\\io\\parsers\\readers.py:1442\u001b[0m, in \u001b[0;36mTextFileReader.__init__\u001b[1;34m(self, f, engine, **kwds)\u001b[0m\n\u001b[0;32m   1439\u001b[0m     \u001b[38;5;28mself\u001b[39m\u001b[38;5;241m.\u001b[39moptions[\u001b[38;5;124m\"\u001b[39m\u001b[38;5;124mhas_index_names\u001b[39m\u001b[38;5;124m\"\u001b[39m] \u001b[38;5;241m=\u001b[39m kwds[\u001b[38;5;124m\"\u001b[39m\u001b[38;5;124mhas_index_names\u001b[39m\u001b[38;5;124m\"\u001b[39m]\n\u001b[0;32m   1441\u001b[0m \u001b[38;5;28mself\u001b[39m\u001b[38;5;241m.\u001b[39mhandles: IOHandles \u001b[38;5;241m|\u001b[39m \u001b[38;5;28;01mNone\u001b[39;00m \u001b[38;5;241m=\u001b[39m \u001b[38;5;28;01mNone\u001b[39;00m\n\u001b[1;32m-> 1442\u001b[0m \u001b[38;5;28mself\u001b[39m\u001b[38;5;241m.\u001b[39m_engine \u001b[38;5;241m=\u001b[39m \u001b[38;5;28;43mself\u001b[39;49m\u001b[38;5;241;43m.\u001b[39;49m\u001b[43m_make_engine\u001b[49m\u001b[43m(\u001b[49m\u001b[43mf\u001b[49m\u001b[43m,\u001b[49m\u001b[43m \u001b[49m\u001b[38;5;28;43mself\u001b[39;49m\u001b[38;5;241;43m.\u001b[39;49m\u001b[43mengine\u001b[49m\u001b[43m)\u001b[49m\n",
      "File \u001b[1;32m~\\AppData\\Local\\Programs\\Python\\Python311\\Lib\\site-packages\\pandas\\io\\parsers\\readers.py:1735\u001b[0m, in \u001b[0;36mTextFileReader._make_engine\u001b[1;34m(self, f, engine)\u001b[0m\n\u001b[0;32m   1733\u001b[0m     \u001b[38;5;28;01mif\u001b[39;00m \u001b[38;5;124m\"\u001b[39m\u001b[38;5;124mb\u001b[39m\u001b[38;5;124m\"\u001b[39m \u001b[38;5;129;01mnot\u001b[39;00m \u001b[38;5;129;01min\u001b[39;00m mode:\n\u001b[0;32m   1734\u001b[0m         mode \u001b[38;5;241m+\u001b[39m\u001b[38;5;241m=\u001b[39m \u001b[38;5;124m\"\u001b[39m\u001b[38;5;124mb\u001b[39m\u001b[38;5;124m\"\u001b[39m\n\u001b[1;32m-> 1735\u001b[0m \u001b[38;5;28mself\u001b[39m\u001b[38;5;241m.\u001b[39mhandles \u001b[38;5;241m=\u001b[39m \u001b[43mget_handle\u001b[49m\u001b[43m(\u001b[49m\n\u001b[0;32m   1736\u001b[0m \u001b[43m    \u001b[49m\u001b[43mf\u001b[49m\u001b[43m,\u001b[49m\n\u001b[0;32m   1737\u001b[0m \u001b[43m    \u001b[49m\u001b[43mmode\u001b[49m\u001b[43m,\u001b[49m\n\u001b[0;32m   1738\u001b[0m \u001b[43m    \u001b[49m\u001b[43mencoding\u001b[49m\u001b[38;5;241;43m=\u001b[39;49m\u001b[38;5;28;43mself\u001b[39;49m\u001b[38;5;241;43m.\u001b[39;49m\u001b[43moptions\u001b[49m\u001b[38;5;241;43m.\u001b[39;49m\u001b[43mget\u001b[49m\u001b[43m(\u001b[49m\u001b[38;5;124;43m\"\u001b[39;49m\u001b[38;5;124;43mencoding\u001b[39;49m\u001b[38;5;124;43m\"\u001b[39;49m\u001b[43m,\u001b[49m\u001b[43m \u001b[49m\u001b[38;5;28;43;01mNone\u001b[39;49;00m\u001b[43m)\u001b[49m\u001b[43m,\u001b[49m\n\u001b[0;32m   1739\u001b[0m \u001b[43m    \u001b[49m\u001b[43mcompression\u001b[49m\u001b[38;5;241;43m=\u001b[39;49m\u001b[38;5;28;43mself\u001b[39;49m\u001b[38;5;241;43m.\u001b[39;49m\u001b[43moptions\u001b[49m\u001b[38;5;241;43m.\u001b[39;49m\u001b[43mget\u001b[49m\u001b[43m(\u001b[49m\u001b[38;5;124;43m\"\u001b[39;49m\u001b[38;5;124;43mcompression\u001b[39;49m\u001b[38;5;124;43m\"\u001b[39;49m\u001b[43m,\u001b[49m\u001b[43m \u001b[49m\u001b[38;5;28;43;01mNone\u001b[39;49;00m\u001b[43m)\u001b[49m\u001b[43m,\u001b[49m\n\u001b[0;32m   1740\u001b[0m \u001b[43m    \u001b[49m\u001b[43mmemory_map\u001b[49m\u001b[38;5;241;43m=\u001b[39;49m\u001b[38;5;28;43mself\u001b[39;49m\u001b[38;5;241;43m.\u001b[39;49m\u001b[43moptions\u001b[49m\u001b[38;5;241;43m.\u001b[39;49m\u001b[43mget\u001b[49m\u001b[43m(\u001b[49m\u001b[38;5;124;43m\"\u001b[39;49m\u001b[38;5;124;43mmemory_map\u001b[39;49m\u001b[38;5;124;43m\"\u001b[39;49m\u001b[43m,\u001b[49m\u001b[43m \u001b[49m\u001b[38;5;28;43;01mFalse\u001b[39;49;00m\u001b[43m)\u001b[49m\u001b[43m,\u001b[49m\n\u001b[0;32m   1741\u001b[0m \u001b[43m    \u001b[49m\u001b[43mis_text\u001b[49m\u001b[38;5;241;43m=\u001b[39;49m\u001b[43mis_text\u001b[49m\u001b[43m,\u001b[49m\n\u001b[0;32m   1742\u001b[0m \u001b[43m    \u001b[49m\u001b[43merrors\u001b[49m\u001b[38;5;241;43m=\u001b[39;49m\u001b[38;5;28;43mself\u001b[39;49m\u001b[38;5;241;43m.\u001b[39;49m\u001b[43moptions\u001b[49m\u001b[38;5;241;43m.\u001b[39;49m\u001b[43mget\u001b[49m\u001b[43m(\u001b[49m\u001b[38;5;124;43m\"\u001b[39;49m\u001b[38;5;124;43mencoding_errors\u001b[39;49m\u001b[38;5;124;43m\"\u001b[39;49m\u001b[43m,\u001b[49m\u001b[43m \u001b[49m\u001b[38;5;124;43m\"\u001b[39;49m\u001b[38;5;124;43mstrict\u001b[39;49m\u001b[38;5;124;43m\"\u001b[39;49m\u001b[43m)\u001b[49m\u001b[43m,\u001b[49m\n\u001b[0;32m   1743\u001b[0m \u001b[43m    \u001b[49m\u001b[43mstorage_options\u001b[49m\u001b[38;5;241;43m=\u001b[39;49m\u001b[38;5;28;43mself\u001b[39;49m\u001b[38;5;241;43m.\u001b[39;49m\u001b[43moptions\u001b[49m\u001b[38;5;241;43m.\u001b[39;49m\u001b[43mget\u001b[49m\u001b[43m(\u001b[49m\u001b[38;5;124;43m\"\u001b[39;49m\u001b[38;5;124;43mstorage_options\u001b[39;49m\u001b[38;5;124;43m\"\u001b[39;49m\u001b[43m,\u001b[49m\u001b[43m \u001b[49m\u001b[38;5;28;43;01mNone\u001b[39;49;00m\u001b[43m)\u001b[49m\u001b[43m,\u001b[49m\n\u001b[0;32m   1744\u001b[0m \u001b[43m\u001b[49m\u001b[43m)\u001b[49m\n\u001b[0;32m   1745\u001b[0m \u001b[38;5;28;01massert\u001b[39;00m \u001b[38;5;28mself\u001b[39m\u001b[38;5;241m.\u001b[39mhandles \u001b[38;5;129;01mis\u001b[39;00m \u001b[38;5;129;01mnot\u001b[39;00m \u001b[38;5;28;01mNone\u001b[39;00m\n\u001b[0;32m   1746\u001b[0m f \u001b[38;5;241m=\u001b[39m \u001b[38;5;28mself\u001b[39m\u001b[38;5;241m.\u001b[39mhandles\u001b[38;5;241m.\u001b[39mhandle\n",
      "File \u001b[1;32m~\\AppData\\Local\\Programs\\Python\\Python311\\Lib\\site-packages\\pandas\\io\\common.py:856\u001b[0m, in \u001b[0;36mget_handle\u001b[1;34m(path_or_buf, mode, encoding, compression, memory_map, is_text, errors, storage_options)\u001b[0m\n\u001b[0;32m    851\u001b[0m \u001b[38;5;28;01melif\u001b[39;00m \u001b[38;5;28misinstance\u001b[39m(handle, \u001b[38;5;28mstr\u001b[39m):\n\u001b[0;32m    852\u001b[0m     \u001b[38;5;66;03m# Check whether the filename is to be opened in binary mode.\u001b[39;00m\n\u001b[0;32m    853\u001b[0m     \u001b[38;5;66;03m# Binary mode does not support 'encoding' and 'newline'.\u001b[39;00m\n\u001b[0;32m    854\u001b[0m     \u001b[38;5;28;01mif\u001b[39;00m ioargs\u001b[38;5;241m.\u001b[39mencoding \u001b[38;5;129;01mand\u001b[39;00m \u001b[38;5;124m\"\u001b[39m\u001b[38;5;124mb\u001b[39m\u001b[38;5;124m\"\u001b[39m \u001b[38;5;129;01mnot\u001b[39;00m \u001b[38;5;129;01min\u001b[39;00m ioargs\u001b[38;5;241m.\u001b[39mmode:\n\u001b[0;32m    855\u001b[0m         \u001b[38;5;66;03m# Encoding\u001b[39;00m\n\u001b[1;32m--> 856\u001b[0m         handle \u001b[38;5;241m=\u001b[39m \u001b[38;5;28;43mopen\u001b[39;49m\u001b[43m(\u001b[49m\n\u001b[0;32m    857\u001b[0m \u001b[43m            \u001b[49m\u001b[43mhandle\u001b[49m\u001b[43m,\u001b[49m\n\u001b[0;32m    858\u001b[0m \u001b[43m            \u001b[49m\u001b[43mioargs\u001b[49m\u001b[38;5;241;43m.\u001b[39;49m\u001b[43mmode\u001b[49m\u001b[43m,\u001b[49m\n\u001b[0;32m    859\u001b[0m \u001b[43m            \u001b[49m\u001b[43mencoding\u001b[49m\u001b[38;5;241;43m=\u001b[39;49m\u001b[43mioargs\u001b[49m\u001b[38;5;241;43m.\u001b[39;49m\u001b[43mencoding\u001b[49m\u001b[43m,\u001b[49m\n\u001b[0;32m    860\u001b[0m \u001b[43m            \u001b[49m\u001b[43merrors\u001b[49m\u001b[38;5;241;43m=\u001b[39;49m\u001b[43merrors\u001b[49m\u001b[43m,\u001b[49m\n\u001b[0;32m    861\u001b[0m \u001b[43m            \u001b[49m\u001b[43mnewline\u001b[49m\u001b[38;5;241;43m=\u001b[39;49m\u001b[38;5;124;43m\"\u001b[39;49m\u001b[38;5;124;43m\"\u001b[39;49m\u001b[43m,\u001b[49m\n\u001b[0;32m    862\u001b[0m \u001b[43m        \u001b[49m\u001b[43m)\u001b[49m\n\u001b[0;32m    863\u001b[0m     \u001b[38;5;28;01melse\u001b[39;00m:\n\u001b[0;32m    864\u001b[0m         \u001b[38;5;66;03m# Binary mode\u001b[39;00m\n\u001b[0;32m    865\u001b[0m         handle \u001b[38;5;241m=\u001b[39m \u001b[38;5;28mopen\u001b[39m(handle, ioargs\u001b[38;5;241m.\u001b[39mmode)\n",
      "\u001b[1;31mFileNotFoundError\u001b[0m: [Errno 2] No such file or directory: 'Chr.csv'"
     ]
    }
   ],
   "source": [
    "Chr = pd.read_csv('Chr.csv')"
   ]
  },
  {
   "cell_type": "code",
   "execution_count": null,
   "id": "c8881f7d",
   "metadata": {},
   "outputs": [],
   "source": [
    "Chr.head(1000)"
   ]
  },
  {
   "cell_type": "code",
   "execution_count": null,
   "id": "21e0d159",
   "metadata": {},
   "outputs": [],
   "source": [
    "Chr_1_VC_mut = Chr[(Chr[\"Chromosome\"] == 1)  & (Chr[\"Cell_line\"] == 'V. cholerae mut')]"
   ]
  },
  {
   "cell_type": "code",
   "execution_count": null,
   "id": "8552a51b",
   "metadata": {},
   "outputs": [],
   "source": [
    "Chr_1_VC_mut[\"Chromosome\"].value_counts()\n",
    "Chr_1_VC_mut[\"Cell_line\"].value_counts()"
   ]
  },
  {
   "cell_type": "code",
   "execution_count": null,
   "id": "c9b8d7fa",
   "metadata": {},
   "outputs": [],
   "source": [
    "Chr_1_VC_mut_1_4 = Chr_1_VC_mut[Chr_1_VC_mut['Site'] < 746757.5]       \n",
    "Chr_1_VC_mut_2_4 = Chr_1_VC_mut[(Chr_1_VC_mut['Site'] > 746757.5) & (Chr_1_VC_mut['Site'] < 1493515)]\n",
    "Chr_1_VC_mut_3_4 = Chr_1_VC_mut[(Chr_1_VC_mut['Site'] > 1493515) & (Chr_1_VC_mut['Site'] < 2240272.5)]\n",
    "Chr_1_VC_mut_4_4 = Chr_1_VC_mut[Chr_1_VC_mut['Site'] > 2240272.5]"
   ]
  },
  {
   "cell_type": "code",
   "execution_count": null,
   "id": "eaa7174d",
   "metadata": {},
   "outputs": [],
   "source": [
    "Chr_1_VC_mut_4_4.Site.max"
   ]
  },
  {
   "cell_type": "code",
   "execution_count": null,
   "id": "f9d65f11",
   "metadata": {},
   "outputs": [],
   "source": [
    "Chr_1_VC_WT = Chr[(Chr[\"Chromosome\"] == 1)  & (Chr[\"Cell_line\"] == 'V. cholerae WT')]"
   ]
  },
  {
   "cell_type": "code",
   "execution_count": null,
   "id": "11ffd769",
   "metadata": {},
   "outputs": [],
   "source": [
    "Chr_1_VC_WT_1_4 = Chr_1_VC_WT[Chr_1_VC_WT['Site'] < 746757.5]       \n",
    "Chr_1_VC_WT_2_4 = Chr_1_VC_WT[(Chr_1_VC_WT['Site'] > 746757.5) & (Chr_1_VC_WT['Site'] < 1493515)]\n",
    "Chr_1_VC_WT_3_4 = Chr_1_VC_WT[(Chr_1_VC_WT['Site'] > 1493515) & (Chr_1_VC_WT['Site'] < 2240272.5)]\n",
    "Chr_1_VC_WT_4_4 = Chr_1_VC_WT[Chr_1_VC_WT['Site'] > 2240272.5]"
   ]
  },
  {
   "cell_type": "code",
   "execution_count": null,
   "id": "171ab736",
   "metadata": {},
   "outputs": [],
   "source": [
    "Chr_1_VC_mut_table = pd.DataFrame(\n",
    "    {\n",
    "        'Mutation': ['A>C', 'A>G', 'A>T', 'C>A', 'C>G', 'C>T', 'G>A', 'G>C', 'G>T', 'T>A', 'T>C', 'T>G'],\n",
    "        'Mutated_base': ['A', 'A', 'A', 'C', 'C', 'C', 'G', 'G', 'G', 'T', 'T' ,'T'],\n",
    "        'Cell_line': ['V. cholerae mut', 'V. cholerae mut', 'V. cholerae mut','V. cholerae mut', 'V. cholerae mut', 'V. cholerae mut', 'V. cholerae mut', 'V. cholerae mut', 'V. cholerae mut', 'V. cholerae mut', 'V. cholerae mut', 'V. cholerae mut'],\n",
    "        'A_count': [0,0,0,0,0,0,0,0,0,0,0,0],\n",
    "        'G_count': [0,0,0,0,0,0,0,0,0,0,0,0],\n",
    "        'T_count': [0,0,0,0,0,0,0,0,0,0,0,0],\n",
    "        'C_count': [0,0,0,0,0,0,0,0,0,0,0,0],\n",
    "        'Nucleotide_count': [0,0,0,0,0,0,0,0,0,0,0,0],\n",
    "        'Mut_count': [0,0,0,0,0,0,0,0,0,0,0,0],\n",
    "        'Total generations' :[27588, 27588, 27588, 27588, 27588, 27588, 27588, 27588, 27588, 27588, 27588, 27588]\n",
    "    }\n",
    ")\n",
    "Chr_1_VC_mut_table['A_count'] = VF_chr1_A_count\n",
    "Chr_1_VC_mut_table['G_count'] = VF_chr1_G_count\n",
    "Chr_1_VC_mut_table['T_count'] = VF_chr1_T_count\n",
    "Chr_1_VC_mut_table['C_count'] = VF_chr1_C_count\n",
    "Chr_1_VC_mut_table"
   ]
  },
  {
   "cell_type": "code",
   "execution_count": null,
   "id": "9e4d0b77",
   "metadata": {},
   "outputs": [],
   "source": [
    "def Nuc_count(n):\n",
    "    if n == 'A':\n",
    "        return VF_chr1_A_count\n",
    "    elif n == 'C':\n",
    "        return VF_chr1_C_count\n",
    "    elif n == 'G':\n",
    "        return VF_chr1_G_count\n",
    "    else:\n",
    "        return VF_chr1_T_count\n",
    "\n",
    "Chr_1_VC_mut_table['Nucleotide_count'] = Chr_1_VC_mut_table['Mutated_base'].map(Nuc_count)\n",
    "Chr_1_VC_mut_table"
   ]
  },
  {
   "cell_type": "code",
   "execution_count": null,
   "id": "7f48e53f",
   "metadata": {},
   "outputs": [],
   "source": [
    "def Mut_count(n):\n",
    "    if n == 'A>C':\n",
    "        return Chr_1_VC_mut['Mutation2'].value_counts()['A>C']\n",
    "    elif n == 'A>G':\n",
    "        return Chr_1_VC_mut['Mutation2'].value_counts()['A>G']\n",
    "    elif n == 'A>T':\n",
    "        return Chr_1_VC_mut['Mutation2'].value_counts()['A>T']\n",
    "    elif n == 'C>A':\n",
    "        return Chr_1_VC_mut['Mutation2'].value_counts()['C>A']\n",
    "    elif n == 'C>G':\n",
    "        return Chr_1_VC_mut['Mutation2'].value_counts()['C>G']\n",
    "    elif n == 'C>T':\n",
    "        return Chr_1_VC_mut['Mutation2'].value_counts()['C>T']\n",
    "    elif n == 'G>A':\n",
    "        return Chr_1_VC_mut['Mutation2'].value_counts()['G>A']\n",
    "    elif n == 'G>C':\n",
    "        return Chr_1_VC_mut['Mutation2'].value_counts()['G>C']\n",
    "    elif n == 'G>T':    \n",
    "        return Chr_1_VC_mut['Mutation2'].value_counts()['G>T']\n",
    "    elif n == 'T>A':\n",
    "        return Chr_1_VC_mut['Mutation2'].value_counts()['T>A']\n",
    "    elif n == 'T>C':\n",
    "        return Chr_1_VC_mut['Mutation2'].value_counts()['T>C']\n",
    "    else:\n",
    "        return Chr_1_VC_mut['Mutation2'].value_counts()['T>G']\n"
   ]
  },
  {
   "cell_type": "code",
   "execution_count": null,
   "id": "b1d75629",
   "metadata": {},
   "outputs": [],
   "source": [
    "Chr_1_VC_mut_table['Mut_count'] = Chr_1_VC_mut_table['Mutation'].map(Mut_count)\n",
    "Chr_1_VC_mut_table"
   ]
  },
  {
   "cell_type": "code",
   "execution_count": null,
   "id": "80a5f9ef",
   "metadata": {},
   "outputs": [],
   "source": [
    "import matplotlib.pyplot as plt\n",
    "import numpy as np\n",
    "x = Chr_1_VC_mut_table['Mutation']\n",
    "Chr_1_VC_mut_table['Frequency'] = Chr_1_VC_mut_table['Nucleotide_count']/ Chr_1_VC_mut_table['Mut_count']/Chr_1_VC_mut_table['Total generations']\n",
    "Chr_1_VC_mut_table.plot.hist()"
   ]
  },
  {
   "cell_type": "code",
   "execution_count": null,
   "id": "08de31c2",
   "metadata": {},
   "outputs": [],
   "source": []
  }
 ],
 "metadata": {
  "kernelspec": {
   "display_name": "Python 3 (ipykernel)",
   "language": "python",
   "name": "python3"
  },
  "language_info": {
   "codemirror_mode": {
    "name": "ipython",
    "version": 3
   },
   "file_extension": ".py",
   "mimetype": "text/x-python",
   "name": "python",
   "nbconvert_exporter": "python",
   "pygments_lexer": "ipython3",
   "version": "3.11.2"
  }
 },
 "nbformat": 4,
 "nbformat_minor": 5
}
